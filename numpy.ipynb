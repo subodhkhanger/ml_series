{
  "nbformat": 4,
  "nbformat_minor": 0,
  "metadata": {
    "colab": {
      "provenance": [],
      "authorship_tag": "ABX9TyNARcc0LQItu9k870QDoV9e",
      "include_colab_link": true
    },
    "kernelspec": {
      "name": "python3",
      "display_name": "Python 3"
    },
    "language_info": {
      "name": "python"
    }
  },
  "cells": [
    {
      "cell_type": "markdown",
      "metadata": {
        "id": "view-in-github",
        "colab_type": "text"
      },
      "source": [
        "<a href=\"https://colab.research.google.com/github/subodhkhanger/ml_series/blob/main/numpy.ipynb\" target=\"_parent\"><img src=\"https://colab.research.google.com/assets/colab-badge.svg\" alt=\"Open In Colab\"/></a>"
      ]
    },
    {
      "cell_type": "markdown",
      "source": [],
      "metadata": {
        "id": "2DK-qJOJKOgk"
      }
    },
    {
      "cell_type": "code",
      "execution_count": null,
      "metadata": {
        "colab": {
          "base_uri": "https://localhost:8080/"
        },
        "id": "gnr8J9IwKOFK",
        "outputId": "58c57bc4-b7f6-4090-b37f-bf905afb2b6c"
      },
      "outputs": [
        {
          "output_type": "stream",
          "name": "stdout",
          "text": [
            "[1 2 3 4 5]\n"
          ]
        }
      ],
      "source": [
        "import numpy as np\n",
        "\n",
        "arr = np.array([1, 2, 3, 4, 5])\n",
        "print(arr)"
      ]
    },
    {
      "cell_type": "markdown",
      "source": [
        "$$arr= \\begin{bmatrix}\n",
        "  1 & 2 & 3 \\\\\n",
        "  4 & 5 & 6\n",
        "\\end{bmatrix} $$"
      ],
      "metadata": {
        "id": "wToEg-RSFSGR"
      }
    },
    {
      "cell_type": "markdown",
      "source": [
        "$$\\begin{bmatrix}\n",
        "  \\begin{bmatrix}\n",
        "    1 & 2 \\\\\n",
        "    3 & 4\n",
        "  \\end{bmatrix}\n",
        "  &\n",
        "  \\begin{bmatrix}\n",
        "    5 & 6 \\\\\n",
        "    7 & 8\n",
        "  \\end{bmatrix}\n",
        "  \\\\\n",
        "  \\begin{bmatrix}\n",
        "    9 & 10 \\\\\n",
        "    11 & 12\n",
        "  \\end{bmatrix}\n",
        "  &\n",
        "  \\begin{bmatrix}\n",
        "    13 & 14 \\\\\n",
        "    15 & 16\n",
        "  \\end{bmatrix}\n",
        "\\end{bmatrix}$$"
      ],
      "metadata": {
        "id": "AQRBwndZFn4h"
      }
    },
    {
      "cell_type": "code",
      "source": [
        "arr = np.array([[1, 2, 3], [4, 5, 6]])\n",
        "print(arr)"
      ],
      "metadata": {
        "colab": {
          "base_uri": "https://localhost:8080/"
        },
        "id": "9U4ht1RdKW5t",
        "outputId": "239cb3f0-fded-42ae-fdea-073842e537d6"
      },
      "execution_count": null,
      "outputs": [
        {
          "output_type": "stream",
          "name": "stdout",
          "text": [
            "[[1 2 3]\n",
            " [4 5 6]]\n"
          ]
        }
      ]
    },
    {
      "cell_type": "code",
      "source": [
        "type(arr)"
      ],
      "metadata": {
        "colab": {
          "base_uri": "https://localhost:8080/"
        },
        "id": "oV7RPPfBKaKA",
        "outputId": "a564806c-323b-40ab-c749-bc7f6e999173"
      },
      "execution_count": null,
      "outputs": [
        {
          "output_type": "execute_result",
          "data": {
            "text/plain": [
              "numpy.ndarray"
            ]
          },
          "metadata": {},
          "execution_count": 3
        }
      ]
    },
    {
      "cell_type": "code",
      "source": [
        "arr.ndim"
      ],
      "metadata": {
        "colab": {
          "base_uri": "https://localhost:8080/"
        },
        "id": "F6WNA4m5Kd4_",
        "outputId": "484d1b61-bb5e-4b3f-d14b-331cd5f0286a"
      },
      "execution_count": null,
      "outputs": [
        {
          "output_type": "execute_result",
          "data": {
            "text/plain": [
              "2"
            ]
          },
          "metadata": {},
          "execution_count": 4
        }
      ]
    },
    {
      "cell_type": "markdown",
      "source": [
        "\n",
        " $$\\mathbf{a} + \\mathbf{b}= \\begin{bmatrix} 1 \\\\ 2 \\\\ 3 \\end{bmatrix} + \\begin{bmatrix} 4 \\\\ 5 \\\\ 6 \\end{bmatrix} = \\begin{bmatrix} 5 \\\\ 7 \\\\ 9 \\end{bmatrix}$$\n"
      ],
      "metadata": {
        "id": "bA_lAuNmC5_g"
      }
    },
    {
      "cell_type": "code",
      "source": [
        "a = np.array([1, 2, 3])\n",
        "b = np.array([4, 5, 6])\n",
        "\n",
        "# Element-wise addition\n",
        "c = a + b\n",
        "print(c)  # Output: [5 7 9]\n",
        "\n",
        "# Element-wise subtraction\n",
        "c = a - b\n",
        "print(c)  # Output: [-3 -3 -3]\n",
        "\n",
        "# Element-wise multiplication\n",
        "c = a * b\n",
        "print(c)  # Output: [ 4 10 18]\n",
        "\n",
        "# Element-wise division\n",
        "c = a / b\n",
        "print(c)  # Output: [0.25 0.4  0.5 ]"
      ],
      "metadata": {
        "colab": {
          "base_uri": "https://localhost:8080/"
        },
        "id": "2T3rZZ9TKgNM",
        "outputId": "97105230-e31c-4535-a505-9fbdb6231c77"
      },
      "execution_count": null,
      "outputs": [
        {
          "output_type": "stream",
          "name": "stdout",
          "text": [
            "[5 7 9]\n",
            "[-3 -3 -3]\n",
            "[ 4 10 18]\n",
            "[0.25 0.4  0.5 ]\n"
          ]
        }
      ]
    },
    {
      "cell_type": "code",
      "source": [
        "a = np.array([[1, 2], [3, 4]])\n",
        "b = np.array([[5, 6], [7, 8]])\n",
        "\n",
        "# Dot product\n",
        "c = np.dot(a, b)\n",
        "print(c)"
      ],
      "metadata": {
        "colab": {
          "base_uri": "https://localhost:8080/"
        },
        "id": "XJKJkYMGKitY",
        "outputId": "46f2790a-3fd1-4b5d-ca8c-8983d790b6da"
      },
      "execution_count": null,
      "outputs": [
        {
          "output_type": "stream",
          "name": "stdout",
          "text": [
            "[[19 22]\n",
            " [43 50]]\n"
          ]
        }
      ]
    },
    {
      "cell_type": "code",
      "source": [
        "a = np.array([[1, 2], [3, 4]])\n",
        "\n",
        "# Transpose\n",
        "b = np.transpose(a)\n",
        "print(b)"
      ],
      "metadata": {
        "colab": {
          "base_uri": "https://localhost:8080/"
        },
        "id": "REF23mpzKtpg",
        "outputId": "3a213b6e-31fc-4d7e-823e-77d6ca9b8dba"
      },
      "execution_count": null,
      "outputs": [
        {
          "output_type": "stream",
          "name": "stdout",
          "text": [
            "[[1 3]\n",
            " [2 4]]\n"
          ]
        }
      ]
    },
    {
      "cell_type": "code",
      "source": [
        "a = np.array([1, 2, 3])\n",
        "print(a.shape) # Output: (3,)\n",
        "b = a[np.newaxis, :]\n",
        "print(b.shape) # Output: (1, 3)\n",
        "c = a[:, np.newaxis]\n",
        "print(c.shape) # Output: (3, 1)"
      ],
      "metadata": {
        "colab": {
          "base_uri": "https://localhost:8080/"
        },
        "id": "7fZv3EGyKwTi",
        "outputId": "33b77ff9-749d-4754-fb25-c48ebec28547"
      },
      "execution_count": null,
      "outputs": [
        {
          "output_type": "stream",
          "name": "stdout",
          "text": [
            "(3,)\n",
            "(1, 3)\n",
            "(3, 1)\n"
          ]
        }
      ]
    },
    {
      "cell_type": "code",
      "source": [
        "a = np.array([1, 2, 3, 4])\n",
        "b = np.array([10, 20, 30, 40])\n",
        "c = a + b\n",
        "print(c) # Output: [11 22 33 44]"
      ],
      "metadata": {
        "colab": {
          "base_uri": "https://localhost:8080/"
        },
        "id": "JYVDEhOpKyjX",
        "outputId": "906dff40-adfb-41c8-c76f-1e9a2ee0c0ff"
      },
      "execution_count": null,
      "outputs": [
        {
          "output_type": "stream",
          "name": "stdout",
          "text": [
            "[11 22 33 44]\n"
          ]
        }
      ]
    },
    {
      "cell_type": "code",
      "source": [
        "a = np.array([[1, 2], [3, 4]])\n",
        "b = np.array([10, 20])\n",
        "c = a * b[:, np.newaxis]\n",
        "print(c) # Output: [[10 20]\n",
        "          #          [60 80]]"
      ],
      "metadata": {
        "colab": {
          "base_uri": "https://localhost:8080/"
        },
        "id": "NIVETdKHK2FT",
        "outputId": "22ca4b44-8bcb-410b-805b-ca26b5787da3"
      },
      "execution_count": null,
      "outputs": [
        {
          "output_type": "stream",
          "name": "stdout",
          "text": [
            "[[10 20]\n",
            " [60 80]]\n"
          ]
        }
      ]
    },
    {
      "cell_type": "code",
      "source": [
        "a = np.array([1, 2, 3, 4, 5])\n",
        "\n",
        "# Sum\n",
        "s = np.sum(a)\n",
        "print(s) \n",
        "# Output: 15\n",
        "\n",
        "# Mean\n",
        "m = np.mean(a)\n",
        "print(m)  \n",
        "# Output: 3.0\n",
        "\n",
        "# Minimum\n",
        "mi = np.min(a)\n",
        "print(mi)  \n",
        "# Output: 1\n",
        "\n",
        "# Maximum\n",
        "ma = np.max(a)\n",
        "print(ma)  \n",
        "\n",
        "# Output: 5\n",
        "\n",
        "# Standard deviation\n",
        "std = np.std(a)\n",
        "print(std)  \n",
        "# Output: 1.41421356"
      ],
      "metadata": {
        "colab": {
          "base_uri": "https://localhost:8080/"
        },
        "id": "cJYF9VULK44A",
        "outputId": "badf75b8-f389-4383-893f-1366105b4e51"
      },
      "execution_count": null,
      "outputs": [
        {
          "output_type": "stream",
          "name": "stdout",
          "text": [
            "15\n",
            "3.0\n",
            "1\n",
            "5\n",
            "1.4142135623730951\n"
          ]
        }
      ]
    },
    {
      "cell_type": "code",
      "source": [
        "arr = np.arange(0, 10, 2)\n",
        "print(arr)"
      ],
      "metadata": {
        "colab": {
          "base_uri": "https://localhost:8080/"
        },
        "id": "7l3FN7z2K8on",
        "outputId": "d64e72ac-cd6c-45f3-d75a-2bb2b3f239b6"
      },
      "execution_count": null,
      "outputs": [
        {
          "output_type": "stream",
          "name": "stdout",
          "text": [
            "[0 2 4 6 8]\n"
          ]
        }
      ]
    },
    {
      "cell_type": "code",
      "source": [
        "arr = np.linspace(0, 1, 5)\n",
        "print(arr)"
      ],
      "metadata": {
        "colab": {
          "base_uri": "https://localhost:8080/"
        },
        "id": "6jjOK4jqK_0W",
        "outputId": "c9fc766a-79eb-475a-bcc5-169dce3ee029"
      },
      "execution_count": null,
      "outputs": [
        {
          "output_type": "stream",
          "name": "stdout",
          "text": [
            "[0.   0.25 0.5  0.75 1.  ]\n"
          ]
        }
      ]
    },
    {
      "cell_type": "code",
      "source": [
        "arr = np.zeros((3, 4))\n",
        "print(arr)"
      ],
      "metadata": {
        "colab": {
          "base_uri": "https://localhost:8080/"
        },
        "id": "ZXv1Hf_1LCR1",
        "outputId": "9a666aed-9d95-46ae-e17c-8817da356dd8"
      },
      "execution_count": null,
      "outputs": [
        {
          "output_type": "stream",
          "name": "stdout",
          "text": [
            "[[0. 0. 0. 0.]\n",
            " [0. 0. 0. 0.]\n",
            " [0. 0. 0. 0.]]\n"
          ]
        }
      ]
    },
    {
      "cell_type": "code",
      "source": [
        "arr = np.ones((2, 3))\n",
        "print(arr)"
      ],
      "metadata": {
        "colab": {
          "base_uri": "https://localhost:8080/"
        },
        "id": "RabspmiMLE0V",
        "outputId": "15a84013-a417-444f-c609-0ccfbd80f323"
      },
      "execution_count": null,
      "outputs": [
        {
          "output_type": "stream",
          "name": "stdout",
          "text": [
            "[[1. 1. 1.]\n",
            " [1. 1. 1.]]\n"
          ]
        }
      ]
    },
    {
      "cell_type": "code",
      "source": [
        "arr = np.zeros((3, 3))\n",
        "arr.fill(5)\n",
        "print(arr)"
      ],
      "metadata": {
        "colab": {
          "base_uri": "https://localhost:8080/"
        },
        "id": "df9iRSxcLHcR",
        "outputId": "9705846f-05b8-4339-c168-9e6905df9661"
      },
      "execution_count": null,
      "outputs": [
        {
          "output_type": "stream",
          "name": "stdout",
          "text": [
            "[[5. 5. 5.]\n",
            " [5. 5. 5.]\n",
            " [5. 5. 5.]]\n"
          ]
        }
      ]
    },
    {
      "cell_type": "code",
      "source": [
        "emp = np.empty((2, 3))\n",
        "print(emp)"
      ],
      "metadata": {
        "colab": {
          "base_uri": "https://localhost:8080/"
        },
        "id": "vp26CRXMLJ-0",
        "outputId": "b7d3dff8-d49e-4920-fb0b-350a32556401"
      },
      "execution_count": null,
      "outputs": [
        {
          "output_type": "stream",
          "name": "stdout",
          "text": [
            "[[1. 1. 1.]\n",
            " [1. 1. 1.]]\n"
          ]
        }
      ]
    },
    {
      "cell_type": "code",
      "source": [
        "arr = np.array([1, 2, 3, 4, 5])\n",
        "\n",
        "# Access the third element\n",
        "elem = arr[2]\n",
        "print(elem)  # Output: 3\n",
        "\n",
        "# Access elements using boolean indexing\n",
        "mask = arr > 3\n",
        "subset = arr[mask]\n",
        "print(subset)  # Output: [4 5]\n",
        "\n",
        "# Access elements using fancy indexing\n",
        "indices = [0, 2, 4]\n",
        "subset = arr[indices]\n",
        "print(subset)  # Output: [1 3 5]"
      ],
      "metadata": {
        "colab": {
          "base_uri": "https://localhost:8080/"
        },
        "id": "twE3jjtlLM6-",
        "outputId": "9f80c18e-257c-48af-b4ec-bfd8a5783dbc"
      },
      "execution_count": null,
      "outputs": [
        {
          "output_type": "stream",
          "name": "stdout",
          "text": [
            "3\n",
            "[4 5]\n",
            "[1 3 5]\n"
          ]
        }
      ]
    },
    {
      "cell_type": "code",
      "source": [
        "arr = np.array([1, 2, 3, 4, 5])\n",
        "elem = arr[2]\n",
        "print(elem)  # Output: 3"
      ],
      "metadata": {
        "colab": {
          "base_uri": "https://localhost:8080/"
        },
        "id": "FdbCXoaJLaWP",
        "outputId": "23c9a5a1-cae0-426d-fb4b-a484ff59f83d"
      },
      "execution_count": null,
      "outputs": [
        {
          "output_type": "stream",
          "name": "stdout",
          "text": [
            "3\n"
          ]
        }
      ]
    },
    {
      "cell_type": "code",
      "source": [
        "arr = np.array([1, 2, 3, 4, 5])\n",
        "subset = arr[1:4]\n",
        "print(subset)  # Output: [2 3 4]"
      ],
      "metadata": {
        "colab": {
          "base_uri": "https://localhost:8080/"
        },
        "id": "lrI1KpHmLeD4",
        "outputId": "0f63a533-46f4-43a5-f5c5-00023cf3e271"
      },
      "execution_count": null,
      "outputs": [
        {
          "output_type": "stream",
          "name": "stdout",
          "text": [
            "[2 3 4]\n"
          ]
        }
      ]
    },
    {
      "cell_type": "code",
      "source": [
        "arr = np.array([1, 2, 3, 4, 5])\n",
        "subset = arr[::2]\n",
        "print(subset)  # Output: [1 3 5]"
      ],
      "metadata": {
        "colab": {
          "base_uri": "https://localhost:8080/"
        },
        "id": "-Sn7615HLgoR",
        "outputId": "2f72a567-209b-4401-effc-55cb2b043a60"
      },
      "execution_count": null,
      "outputs": [
        {
          "output_type": "stream",
          "name": "stdout",
          "text": [
            "[1 3 5]\n"
          ]
        }
      ]
    },
    {
      "cell_type": "code",
      "source": [
        "arr = np.array([[1, 2, 3], [4, 5, 6], [7, 8, 9]])\n",
        "sub = arr[0:2, 1:3]\n",
        "print(sub)  # Output: [[2 3]\n",
        "            #          [5 6]]"
      ],
      "metadata": {
        "colab": {
          "base_uri": "https://localhost:8080/"
        },
        "id": "0xYbRmiqLjfo",
        "outputId": "2dd555b1-56a6-4e69-c18f-dd22016199cd"
      },
      "execution_count": null,
      "outputs": [
        {
          "output_type": "stream",
          "name": "stdout",
          "text": [
            "[[2 3]\n",
            " [5 6]]\n"
          ]
        }
      ]
    },
    {
      "cell_type": "code",
      "source": [
        "arr = np.array([[[1, 2], [3, 4]], [[5, 6], [7, 8]]])\n",
        "sub = arr[..., 0]\n",
        "print(sub)  # Output: [[1 3]\n",
        "            #          [5 7]]"
      ],
      "metadata": {
        "colab": {
          "base_uri": "https://localhost:8080/"
        },
        "id": "1OOmRoI_Llvh",
        "outputId": "89e72b91-050a-4156-cea9-e7f4b799d6af"
      },
      "execution_count": null,
      "outputs": [
        {
          "output_type": "stream",
          "name": "stdout",
          "text": [
            "[[1 3]\n",
            " [5 7]]\n"
          ]
        }
      ]
    },
    {
      "cell_type": "code",
      "source": [
        "a = np.array([1, 2, 3, 4])\n",
        "b = np.array([10, 20, 30, 40])\n",
        "c = np.where(a > 2, b, a)\n",
        "print(c) \n",
        "# Output: [ 1  2 30 40]"
      ],
      "metadata": {
        "colab": {
          "base_uri": "https://localhost:8080/"
        },
        "id": "_SlJW8qfLoFV",
        "outputId": "af1fb1f8-752a-4502-cf6e-77bf05ba23a4"
      },
      "execution_count": null,
      "outputs": [
        {
          "output_type": "stream",
          "name": "stdout",
          "text": [
            "[ 1  2 30 40]\n"
          ]
        }
      ]
    },
    {
      "cell_type": "code",
      "source": [
        "a = np.array([1, 3, 2, 4, 5])\n",
        "max_index = np.argmax(a)\n",
        "print(\"The maximum value is:\", a[max_index])\n",
        "print(\"The index of the maximum value is:\", max_index)"
      ],
      "metadata": {
        "colab": {
          "base_uri": "https://localhost:8080/"
        },
        "id": "KuoM845GLqs2",
        "outputId": "912398ab-a3cf-4b89-84fa-ee4affb53b54"
      },
      "execution_count": null,
      "outputs": [
        {
          "output_type": "stream",
          "name": "stdout",
          "text": [
            "The maximum value is: 5\n",
            "The index of the maximum value is: 4\n"
          ]
        }
      ]
    },
    {
      "cell_type": "code",
      "source": [
        "a = np.array([[1, 2, 3], [4, 5, 6], [7, 8, 9]])\n",
        "max_indices = np.argmax(a, axis=1)\n",
        "print(\"The indices of the maximum values in each row are:\", max_indices)"
      ],
      "metadata": {
        "colab": {
          "base_uri": "https://localhost:8080/"
        },
        "id": "OEztal1yLujc",
        "outputId": "cedaaef4-e5e1-4e61-de97-5b800d232d9d"
      },
      "execution_count": null,
      "outputs": [
        {
          "output_type": "stream",
          "name": "stdout",
          "text": [
            "The indices of the maximum values in each row are: [2 2 2]\n"
          ]
        }
      ]
    },
    {
      "cell_type": "code",
      "source": [
        "arr = np.array([[1, 2, 3], [4, 5, 6]])\n",
        "\n",
        "max_val = np.max(arr, axis=0)\n",
        "min_val = np.min(arr, axis=1)\n",
        "print(max_val)  # Output: [4 5 6]\n",
        "print(min_val)  # Output: [1 4]"
      ],
      "metadata": {
        "colab": {
          "base_uri": "https://localhost:8080/"
        },
        "id": "bED9P7kLL15e",
        "outputId": "15bb9eef-35cc-4650-ed9b-8264fcdc889c"
      },
      "execution_count": null,
      "outputs": [
        {
          "output_type": "stream",
          "name": "stdout",
          "text": [
            "[4 5 6]\n",
            "[1 4]\n"
          ]
        }
      ]
    },
    {
      "cell_type": "code",
      "source": [
        "arr = np.array([[1, 2, 3], [4, 5, 6]])\n",
        "sum_val = np.sum(arr, axis=0)\n",
        "print(sum_val)  # Output: [5 7 9]"
      ],
      "metadata": {
        "colab": {
          "base_uri": "https://localhost:8080/"
        },
        "id": "udLC2ewrL6pE",
        "outputId": "403f346a-069a-42cf-98b2-7fe295a0dfa2"
      },
      "execution_count": null,
      "outputs": [
        {
          "output_type": "stream",
          "name": "stdout",
          "text": [
            "[5 7 9]\n"
          ]
        }
      ]
    },
    {
      "cell_type": "code",
      "source": [
        "arr = np.array([[1, 2, 3], [4, 5, 6]])\n",
        "prod_val = np.prod(arr, axis=1)\n",
        "print(prod_val)  # Output: [ 6 120]"
      ],
      "metadata": {
        "colab": {
          "base_uri": "https://localhost:8080/"
        },
        "id": "7wk6V8OzL9JI",
        "outputId": "c5ca97ba-283a-4776-efb2-c82f411a6322"
      },
      "execution_count": null,
      "outputs": [
        {
          "output_type": "stream",
          "name": "stdout",
          "text": [
            "[  6 120]\n"
          ]
        }
      ]
    },
    {
      "cell_type": "code",
      "source": [
        "arr = np.array([[1, 2, 3], [4, 5, 6]])\n",
        "mean_val = np.mean(arr, axis=0)\n",
        "print(mean_val)  # Output: [2.5 3.5 4.5]"
      ],
      "metadata": {
        "colab": {
          "base_uri": "https://localhost:8080/"
        },
        "id": "VbpKxn5XL_f5",
        "outputId": "dd71369e-5e2e-4e3f-ea9b-bc1d34862dbf"
      },
      "execution_count": null,
      "outputs": [
        {
          "output_type": "stream",
          "name": "stdout",
          "text": [
            "[2.5 3.5 4.5]\n"
          ]
        }
      ]
    },
    {
      "cell_type": "code",
      "source": [
        "arr = np.array([[1, 2, 3], [4, 5, 6]])\n",
        "std_val = np.std(arr, axis=1)\n",
        "print(std_val)  # Output: [0.81649658 0.81649658]"
      ],
      "metadata": {
        "colab": {
          "base_uri": "https://localhost:8080/"
        },
        "id": "hPOt97K-MB30",
        "outputId": "20cfe885-ac7a-49e7-fa67-59885304e190"
      },
      "execution_count": null,
      "outputs": [
        {
          "output_type": "stream",
          "name": "stdout",
          "text": [
            "[0.81649658 0.81649658]\n"
          ]
        }
      ]
    },
    {
      "cell_type": "code",
      "source": [
        "a = np.array([[1, 2], [3, 4]])\n",
        "b = np.add.reduce(a, axis=0)\n",
        "print(b) # Output: [4 6]"
      ],
      "metadata": {
        "colab": {
          "base_uri": "https://localhost:8080/"
        },
        "id": "1xT7Za17MD-z",
        "outputId": "28790430-ebab-4954-878e-9308a5c0251a"
      },
      "execution_count": null,
      "outputs": [
        {
          "output_type": "stream",
          "name": "stdout",
          "text": [
            "[4 6]\n"
          ]
        }
      ]
    },
    {
      "cell_type": "code",
      "source": [
        "a = np.array([[True, False], [True, True]])\n",
        "b = np.logical_and.reduce(a, axis=1)\n",
        "print(b) # Output: [False  True]"
      ],
      "metadata": {
        "colab": {
          "base_uri": "https://localhost:8080/"
        },
        "id": "-L-206fsMGj_",
        "outputId": "83655d3b-16a9-4aed-8c39-09187a6954f4"
      },
      "execution_count": null,
      "outputs": [
        {
          "output_type": "stream",
          "name": "stdout",
          "text": [
            "[False  True]\n"
          ]
        }
      ]
    },
    {
      "cell_type": "code",
      "source": [
        "a = np.array([1, 2, 3, 4])\n",
        "b = np.add.accumulate(a)\n",
        "print(b) # Output: [ 1  3  6 10]"
      ],
      "metadata": {
        "colab": {
          "base_uri": "https://localhost:8080/"
        },
        "id": "9YUXd-kEMI9J",
        "outputId": "f52831dc-5311-489d-89e5-cf1ef6bf7606"
      },
      "execution_count": null,
      "outputs": [
        {
          "output_type": "stream",
          "name": "stdout",
          "text": [
            "[ 1  3  6 10]\n"
          ]
        }
      ]
    },
    {
      "cell_type": "code",
      "source": [
        "a = np.array([[True, False], [False, False]])\n",
        "b = np.logical_or.reduce(a, axis=0)\n",
        "print(b) # Output: [ True False]"
      ],
      "metadata": {
        "id": "py_SlhTQMMU9",
        "outputId": "aa445fbf-67db-4454-f009-eed68ddf61c1",
        "colab": {
          "base_uri": "https://localhost:8080/"
        }
      },
      "execution_count": null,
      "outputs": [
        {
          "output_type": "stream",
          "name": "stdout",
          "text": [
            "[ True False]\n"
          ]
        }
      ]
    }
  ]
}